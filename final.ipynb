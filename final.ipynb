{
 "cells": [
  {
   "cell_type": "code",
   "execution_count": 6,
   "metadata": {},
   "outputs": [
    {
     "name": "stdout",
     "output_type": "stream",
     "text": [
      "   id     Col 1     Col 2     Col 3     Col 4     Col 5     Col 6     Col 7  \\\n",
      "0   0  0.038076  0.050680  0.061696  0.021872 -0.044223 -0.034821 -0.043401   \n",
      "1   1 -0.001882 -0.044642 -0.051474 -0.026328 -0.008449 -0.019163  0.074412   \n",
      "2   2  0.085299  0.050680  0.044451 -0.005671 -0.045599 -0.034194 -0.032356   \n",
      "3   3 -0.089063 -0.044642 -0.011595 -0.036656  0.012191  0.024991 -0.036038   \n",
      "4   4  0.005383 -0.044642 -0.036385  0.021872  0.003935  0.015596  0.008142   \n",
      "\n",
      "      Col 8     Col 9  ...    Col 56    Col 57    Col 58    Col 59    Col 60  \\\n",
      "0 -0.002592  0.019908  ... -0.022038 -0.031125 -0.000922  0.033494  0.000852   \n",
      "1 -0.039493 -0.068330  ... -0.011564  0.012973  0.023783 -0.023815 -0.094506   \n",
      "2 -0.002592  0.002864  ... -0.022063 -0.018016  0.004913  0.032956  0.018281   \n",
      "3  0.034309  0.022692  ... -0.009984 -0.003373 -0.019109  0.008159  0.001898   \n",
      "4 -0.002592 -0.031991  ... -0.024091 -0.026846 -0.029687  0.030984  0.014489   \n",
      "\n",
      "     Col 61    Col 62    Col 63    Col 64    y  \n",
      "0  0.031150 -0.028191 -0.017658 -0.027794  151  \n",
      "1 -0.140378  0.025298  0.053034  0.104013   75  \n",
      "2  0.032795 -0.027332 -0.017236 -0.022304  141  \n",
      "3  0.021514 -0.012045 -0.024872 -0.025042  206  \n",
      "4  0.005386 -0.025575 -0.016180  0.008735  135  \n",
      "\n",
      "[5 rows x 66 columns]\n",
      "               id       Col 1       Col 2       Col 3       Col 4       Col 5  \\\n",
      "count  160.000000  160.000000  160.000000  160.000000  160.000000  160.000000   \n",
      "mean    79.500000   -0.008875   -0.002343   -0.001120   -0.004401   -0.006032   \n",
      "std     46.332134    0.048101    0.047507    0.046042    0.045894    0.043050   \n",
      "min      0.000000   -0.107226   -0.044642   -0.083808   -0.108957   -0.126781   \n",
      "25%     39.750000   -0.046381   -0.044642   -0.035307   -0.036656   -0.037344   \n",
      "50%     79.500000   -0.001882   -0.044642   -0.006206   -0.012556   -0.005009   \n",
      "75%    119.250000    0.030811    0.050680    0.028284    0.021872    0.020446   \n",
      "max    159.000000    0.085299    0.050680    0.128521    0.125158    0.152538   \n",
      "\n",
      "            Col 6       Col 7       Col 8       Col 9  ...      Col 56  \\\n",
      "count  160.000000  160.000000  160.000000  160.000000  ...  160.000000   \n",
      "mean    -0.004778    0.002827   -0.005934   -0.006234  ...   -0.000659   \n",
      "std      0.045374    0.048762    0.047204    0.044045  ...    0.055793   \n",
      "min     -0.106845   -0.102307   -0.076395   -0.126097  ...   -0.076433   \n",
      "25%     -0.034273   -0.032356   -0.039493   -0.034524  ...   -0.023703   \n",
      "50%     -0.009925   -0.002903   -0.002592   -0.010412  ...   -0.014868   \n",
      "75%      0.021703    0.037595    0.025822    0.026221  ...    0.003447   \n",
      "max      0.198788    0.181179    0.185234    0.133599  ...    0.555129   \n",
      "\n",
      "           Col 57      Col 58      Col 59      Col 60      Col 61      Col 62  \\\n",
      "count  160.000000  160.000000  160.000000  160.000000  160.000000  160.000000   \n",
      "mean    -0.005031   -0.000871   -0.001619    0.002133   -0.002643   -0.005465   \n",
      "std      0.043475    0.049456    0.047331    0.045093    0.056129    0.039382   \n",
      "min     -0.155145   -0.151734   -0.228580   -0.143972   -0.223255   -0.160745   \n",
      "25%     -0.022007   -0.020446   -0.021084   -0.018638   -0.017585   -0.026875   \n",
      "50%     -0.009495   -0.010498    0.014418    0.009642    0.009252   -0.014899   \n",
      "75%      0.013173    0.009096    0.031522    0.022619    0.022176    0.014464   \n",
      "max      0.113164    0.299032    0.080445    0.163067    0.209905    0.157844   \n",
      "\n",
      "           Col 63      Col 64           y  \n",
      "count  160.000000  160.000000  160.000000  \n",
      "mean     0.001668   -0.001809  147.843750  \n",
      "std      0.053606    0.047778   76.364695  \n",
      "min     -0.128919   -0.092165   25.000000  \n",
      "25%     -0.019626   -0.023964   87.750000  \n",
      "50%     -0.015336   -0.015265  134.500000  \n",
      "75%      0.018200    0.011668  195.500000  \n",
      "max      0.318104    0.338184  341.000000  \n",
      "\n",
      "[8 rows x 66 columns]\n"
     ]
    }
   ],
   "source": [
    "import pandas as pd\n",
    "\n",
    "train_data = pd.read_csv('train.csv')\n",
    "test_data = pd.read_csv('x_test.csv')\n",
    "sample_submission = pd.read_csv('sample_submission.csv')\n",
    "\n",
    "# Display the first few rows\n",
    "print(train_data.head())\n",
    "\n",
    "# Get summary statistics\n",
    "print(train_data.describe())"
   ]
  },
  {
   "cell_type": "code",
   "execution_count": 7,
   "metadata": {},
   "outputs": [
    {
     "data": {
      "text/plain": [
       "{'Linear Regression': (-27939.328233417724, 30613.24627123543),\n",
       " 'Ridge Regression': (-4288.743660336313, 1232.1729475981901),\n",
       " 'Lasso Regression': (-3981.660586736045, 1285.5423163672062)}"
      ]
     },
     "execution_count": 7,
     "metadata": {},
     "output_type": "execute_result"
    }
   ],
   "source": [
    "from sklearn.model_selection import train_test_split, cross_val_score\n",
    "from sklearn.linear_model import LinearRegression, Ridge, Lasso\n",
    "from sklearn.metrics import mean_squared_error\n",
    "import numpy as np\n",
    "\n",
    "# Separate features and target from training data\n",
    "X = train_data.drop(columns=['id', 'y'])\n",
    "y = train_data['y']\n",
    "\n",
    "# Split the data into training and validation sets\n",
    "X_train, X_val, y_train, y_val = train_test_split(X, y, test_size=0.2, random_state=42)\n",
    "\n",
    "# Initialize the models\n",
    "models = {\n",
    "    'Linear Regression': LinearRegression(),\n",
    "    'Ridge Regression': Ridge(),\n",
    "    'Lasso Regression': Lasso()\n",
    "}\n",
    "\n",
    "# Train and evaluate each model using cross-validation\n",
    "scores = {}\n",
    "for model_name, model in models.items():\n",
    "    # Train the model\n",
    "    model.fit(X_train, y_train)\n",
    "    \n",
    "    # Perform cross-validation\n",
    "    cv_scores = cross_val_score(model, X_train, y_train, cv=5, scoring='neg_mean_squared_error')\n",
    "    \n",
    "    # Store the mean and standard deviation of the cross-validation scores\n",
    "    scores[model_name] = (np.mean(cv_scores), np.std(cv_scores))\n",
    "\n",
    "scores\n"
   ]
  },
  {
   "cell_type": "code",
   "execution_count": 8,
   "metadata": {},
   "outputs": [
    {
     "name": "stderr",
     "output_type": "stream",
     "text": [
      "/Users/mihir/anaconda3/lib/python3.10/site-packages/sklearn/linear_model/_coordinate_descent.py:631: ConvergenceWarning: Objective did not converge. You might want to increase the number of iterations, check the scale of the features or consider increasing regularisation. Duality gap: 2.266e+04, tolerance: 5.689e+01\n",
      "  model = cd_fast.enet_coordinate_descent(\n",
      "/Users/mihir/anaconda3/lib/python3.10/site-packages/sklearn/linear_model/_coordinate_descent.py:631: ConvergenceWarning: Objective did not converge. You might want to increase the number of iterations, check the scale of the features or consider increasing regularisation. Duality gap: 4.333e+04, tolerance: 5.719e+01\n",
      "  model = cd_fast.enet_coordinate_descent(\n",
      "/Users/mihir/anaconda3/lib/python3.10/site-packages/sklearn/linear_model/_coordinate_descent.py:631: ConvergenceWarning: Objective did not converge. You might want to increase the number of iterations, check the scale of the features or consider increasing regularisation. Duality gap: 3.843e+04, tolerance: 6.365e+01\n",
      "  model = cd_fast.enet_coordinate_descent(\n",
      "/Users/mihir/anaconda3/lib/python3.10/site-packages/sklearn/linear_model/_coordinate_descent.py:631: ConvergenceWarning: Objective did not converge. You might want to increase the number of iterations, check the scale of the features or consider increasing regularisation. Duality gap: 4.903e+04, tolerance: 6.254e+01\n",
      "  model = cd_fast.enet_coordinate_descent(\n",
      "/Users/mihir/anaconda3/lib/python3.10/site-packages/sklearn/linear_model/_coordinate_descent.py:631: ConvergenceWarning: Objective did not converge. You might want to increase the number of iterations, check the scale of the features or consider increasing regularisation. Duality gap: 1.803e+04, tolerance: 5.254e+01\n",
      "  model = cd_fast.enet_coordinate_descent(\n",
      "/Users/mihir/anaconda3/lib/python3.10/site-packages/sklearn/linear_model/_coordinate_descent.py:631: ConvergenceWarning: Objective did not converge. You might want to increase the number of iterations, check the scale of the features or consider increasing regularisation. Duality gap: 5.583e+02, tolerance: 6.365e+01\n",
      "  model = cd_fast.enet_coordinate_descent(\n"
     ]
    },
    {
     "data": {
      "text/plain": [
       "({'alpha': 0.1}, 3079.8140170680526)"
      ]
     },
     "execution_count": 8,
     "metadata": {},
     "output_type": "execute_result"
    }
   ],
   "source": [
    "from sklearn.model_selection import GridSearchCV\n",
    "\n",
    "# Define the parameter grid for Lasso\n",
    "param_grid = {\n",
    "    'alpha': [0.001, 0.01, 0.1, 1, 10, 100]\n",
    "}\n",
    "\n",
    "# Initialize GridSearchCV with Lasso Regression\n",
    "grid_search = GridSearchCV(Lasso(), param_grid, cv=5, scoring='neg_mean_squared_error', return_train_score=True)\n",
    "\n",
    "# Fit the model to the data\n",
    "grid_search.fit(X_train, y_train)\n",
    "\n",
    "# Get the results\n",
    "best_params = grid_search.best_params_\n",
    "best_score = -grid_search.best_score_\n",
    "\n",
    "best_params, best_score\n"
   ]
  },
  {
   "cell_type": "code",
   "execution_count": 11,
   "metadata": {},
   "outputs": [],
   "source": [
    "# Use the best model from grid search to make predictions on the test set\n",
    "best_lasso_model = grid_search.best_estimator_\n",
    "predictions = best_lasso_model.predict(test_data.drop(columns=['id']))\n",
    "\n",
    "# Create the submission DataFrame\n",
    "submission = test_data[['id']].copy()\n",
    "submission['y'] = predictions\n",
    "\n",
    "submission.head()\n",
    "\n",
    "submission.to_csv(\"submission.csv\")"
   ]
  }
 ],
 "metadata": {
  "kernelspec": {
   "display_name": "base",
   "language": "python",
   "name": "python3"
  },
  "language_info": {
   "codemirror_mode": {
    "name": "ipython",
    "version": 3
   },
   "file_extension": ".py",
   "mimetype": "text/x-python",
   "name": "python",
   "nbconvert_exporter": "python",
   "pygments_lexer": "ipython3",
   "version": "3.10.12"
  },
  "orig_nbformat": 4
 },
 "nbformat": 4,
 "nbformat_minor": 2
}
