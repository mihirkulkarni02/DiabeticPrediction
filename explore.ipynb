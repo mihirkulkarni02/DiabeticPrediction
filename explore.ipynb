{
 "cells": [
  {
   "cell_type": "code",
   "execution_count": 17,
   "metadata": {},
   "outputs": [],
   "source": [
    "import pandas as pd\n",
    "\n",
    "train_data = pd.read_csv('train.csv')\n",
    "test_data = pd.read_csv('x_test.csv')\n",
    "sample_submission = pd.read_csv('sample_submission.csv')"
   ]
  },
  {
   "cell_type": "code",
   "execution_count": 18,
   "metadata": {},
   "outputs": [
    {
     "data": {
      "text/plain": [
       "((128, 64), (32, 64))"
      ]
     },
     "execution_count": 18,
     "metadata": {},
     "output_type": "execute_result"
    }
   ],
   "source": [
    "from sklearn.model_selection import train_test_split\n",
    "from sklearn.preprocessing import StandardScaler\n",
    "\n",
    "# Separate features and target variable from training data\n",
    "X = train_data.drop(['id', 'y'], axis=1)\n",
    "y = train_data['y']\n",
    "\n",
    "# Split the data into training and validation sets (80% train, 20% validation)\n",
    "X_train, X_val, y_train, y_val = train_test_split(X, y, test_size=0.2, random_state=42)\n",
    "\n",
    "# Scale the features using StandardScaler\n",
    "scaler = StandardScaler()\n",
    "X_train_scaled = scaler.fit_transform(X_train)\n",
    "X_val_scaled = scaler.transform(X_val)\n",
    "\n",
    "X_train_scaled.shape, X_val_scaled.shape\n"
   ]
  },
  {
   "cell_type": "code",
   "execution_count": 19,
   "metadata": {},
   "outputs": [
    {
     "data": {
      "text/plain": [
       "4345.423238344814"
      ]
     },
     "execution_count": 19,
     "metadata": {},
     "output_type": "execute_result"
    }
   ],
   "source": [
    "from sklearn.linear_model import Lasso\n",
    "from sklearn.metrics import mean_squared_error\n",
    "\n",
    "# Initialize Lasso regression model\n",
    "lasso_model = Lasso()\n",
    "\n",
    "# Train the model\n",
    "lasso_model.fit(X_train_scaled, y_train)\n",
    "\n",
    "# Predict on validation set\n",
    "y_val_pred = lasso_model.predict(X_val_scaled)\n",
    "\n",
    "# Calculate mean squared error on validation set\n",
    "mse = mean_squared_error(y_val, y_val_pred)\n",
    "mse"
   ]
  },
  {
   "cell_type": "code",
   "execution_count": 20,
   "metadata": {},
   "outputs": [
    {
     "name": "stderr",
     "output_type": "stream",
     "text": [
      "/Users/mihir/anaconda3/lib/python3.10/site-packages/sklearn/linear_model/_coordinate_descent.py:631: ConvergenceWarning: Objective did not converge. You might want to increase the number of iterations, check the scale of the features or consider increasing regularisation. Duality gap: 5.636e+04, tolerance: 5.719e+01\n",
      "  model = cd_fast.enet_coordinate_descent(\n",
      "/Users/mihir/anaconda3/lib/python3.10/site-packages/sklearn/linear_model/_coordinate_descent.py:631: ConvergenceWarning: Objective did not converge. You might want to increase the number of iterations, check the scale of the features or consider increasing regularisation. Duality gap: 3.702e+04, tolerance: 5.689e+01\n",
      "  model = cd_fast.enet_coordinate_descent(\n",
      "/Users/mihir/anaconda3/lib/python3.10/site-packages/sklearn/linear_model/_coordinate_descent.py:631: ConvergenceWarning: Objective did not converge. You might want to increase the number of iterations, check the scale of the features or consider increasing regularisation. Duality gap: 5.711e+04, tolerance: 6.365e+01\n",
      "  model = cd_fast.enet_coordinate_descent(\n",
      "/Users/mihir/anaconda3/lib/python3.10/site-packages/sklearn/linear_model/_coordinate_descent.py:631: ConvergenceWarning: Objective did not converge. You might want to increase the number of iterations, check the scale of the features or consider increasing regularisation. Duality gap: 5.762e+04, tolerance: 6.254e+01\n",
      "  model = cd_fast.enet_coordinate_descent(\n",
      "/Users/mihir/anaconda3/lib/python3.10/site-packages/sklearn/linear_model/_coordinate_descent.py:631: ConvergenceWarning: Objective did not converge. You might want to increase the number of iterations, check the scale of the features or consider increasing regularisation. Duality gap: 4.532e+04, tolerance: 5.254e+01\n",
      "  model = cd_fast.enet_coordinate_descent(\n",
      "/Users/mihir/anaconda3/lib/python3.10/site-packages/sklearn/linear_model/_coordinate_descent.py:631: ConvergenceWarning: Objective did not converge. You might want to increase the number of iterations, check the scale of the features or consider increasing regularisation. Duality gap: 5.645e+04, tolerance: 5.719e+01\n",
      "  model = cd_fast.enet_coordinate_descent(\n",
      "/Users/mihir/anaconda3/lib/python3.10/site-packages/sklearn/linear_model/_coordinate_descent.py:631: ConvergenceWarning: Objective did not converge. You might want to increase the number of iterations, check the scale of the features or consider increasing regularisation. Duality gap: 5.693e+04, tolerance: 6.365e+01\n",
      "  model = cd_fast.enet_coordinate_descent(\n",
      "/Users/mihir/anaconda3/lib/python3.10/site-packages/sklearn/linear_model/_coordinate_descent.py:631: ConvergenceWarning: Objective did not converge. You might want to increase the number of iterations, check the scale of the features or consider increasing regularisation. Duality gap: 4.497e+04, tolerance: 5.254e+01\n",
      "  model = cd_fast.enet_coordinate_descent(\n",
      "/Users/mihir/anaconda3/lib/python3.10/site-packages/sklearn/linear_model/_coordinate_descent.py:631: ConvergenceWarning: Objective did not converge. You might want to increase the number of iterations, check the scale of the features or consider increasing regularisation. Duality gap: 5.757e+04, tolerance: 6.254e+01\n",
      "  model = cd_fast.enet_coordinate_descent(\n",
      "/Users/mihir/anaconda3/lib/python3.10/site-packages/sklearn/linear_model/_coordinate_descent.py:631: ConvergenceWarning: Objective did not converge. You might want to increase the number of iterations, check the scale of the features or consider increasing regularisation. Duality gap: 3.693e+04, tolerance: 5.689e+01\n",
      "  model = cd_fast.enet_coordinate_descent(\n",
      "/Users/mihir/anaconda3/lib/python3.10/site-packages/sklearn/linear_model/_coordinate_descent.py:631: ConvergenceWarning: Objective did not converge. You might want to increase the number of iterations, check the scale of the features or consider increasing regularisation. Duality gap: 3.668e+04, tolerance: 5.689e+01\n",
      "  model = cd_fast.enet_coordinate_descent(\n",
      "/Users/mihir/anaconda3/lib/python3.10/site-packages/sklearn/linear_model/_coordinate_descent.py:631: ConvergenceWarning: Objective did not converge. You might want to increase the number of iterations, check the scale of the features or consider increasing regularisation. Duality gap: 5.613e+04, tolerance: 5.719e+01\n",
      "  model = cd_fast.enet_coordinate_descent(\n",
      "/Users/mihir/anaconda3/lib/python3.10/site-packages/sklearn/linear_model/_coordinate_descent.py:631: ConvergenceWarning: Objective did not converge. You might want to increase the number of iterations, check the scale of the features or consider increasing regularisation. Duality gap: 5.646e+04, tolerance: 6.365e+01\n",
      "  model = cd_fast.enet_coordinate_descent(\n",
      "/Users/mihir/anaconda3/lib/python3.10/site-packages/sklearn/linear_model/_coordinate_descent.py:631: ConvergenceWarning: Objective did not converge. You might want to increase the number of iterations, check the scale of the features or consider increasing regularisation. Duality gap: 4.409e+04, tolerance: 5.254e+01\n",
      "  model = cd_fast.enet_coordinate_descent(\n",
      "/Users/mihir/anaconda3/lib/python3.10/site-packages/sklearn/linear_model/_coordinate_descent.py:631: ConvergenceWarning: Objective did not converge. You might want to increase the number of iterations, check the scale of the features or consider increasing regularisation. Duality gap: 5.742e+04, tolerance: 6.254e+01\n",
      "  model = cd_fast.enet_coordinate_descent(\n",
      "/Users/mihir/anaconda3/lib/python3.10/site-packages/sklearn/linear_model/_coordinate_descent.py:631: ConvergenceWarning: Objective did not converge. You might want to increase the number of iterations, check the scale of the features or consider increasing regularisation. Duality gap: 3.601e+04, tolerance: 5.689e+01\n",
      "  model = cd_fast.enet_coordinate_descent(\n",
      "/Users/mihir/anaconda3/lib/python3.10/site-packages/sklearn/linear_model/_coordinate_descent.py:631: ConvergenceWarning: Objective did not converge. You might want to increase the number of iterations, check the scale of the features or consider increasing regularisation. Duality gap: 5.702e+04, tolerance: 6.254e+01\n",
      "  model = cd_fast.enet_coordinate_descent(\n",
      "/Users/mihir/anaconda3/lib/python3.10/site-packages/sklearn/linear_model/_coordinate_descent.py:631: ConvergenceWarning: Objective did not converge. You might want to increase the number of iterations, check the scale of the features or consider increasing regularisation. Duality gap: 5.550e+04, tolerance: 5.719e+01\n",
      "  model = cd_fast.enet_coordinate_descent(\n",
      "/Users/mihir/anaconda3/lib/python3.10/site-packages/sklearn/linear_model/_coordinate_descent.py:631: ConvergenceWarning: Objective did not converge. You might want to increase the number of iterations, check the scale of the features or consider increasing regularisation. Duality gap: 4.186e+04, tolerance: 5.254e+01\n",
      "  model = cd_fast.enet_coordinate_descent(\n",
      "/Users/mihir/anaconda3/lib/python3.10/site-packages/sklearn/linear_model/_coordinate_descent.py:631: ConvergenceWarning: Objective did not converge. You might want to increase the number of iterations, check the scale of the features or consider increasing regularisation. Duality gap: 5.525e+04, tolerance: 6.365e+01\n",
      "  model = cd_fast.enet_coordinate_descent(\n",
      "/Users/mihir/anaconda3/lib/python3.10/site-packages/sklearn/linear_model/_coordinate_descent.py:631: ConvergenceWarning: Objective did not converge. You might want to increase the number of iterations, check the scale of the features or consider increasing regularisation. Duality gap: 3.403e+04, tolerance: 5.689e+01\n",
      "  model = cd_fast.enet_coordinate_descent(\n",
      "/Users/mihir/anaconda3/lib/python3.10/site-packages/sklearn/linear_model/_coordinate_descent.py:631: ConvergenceWarning: Objective did not converge. You might want to increase the number of iterations, check the scale of the features or consider increasing regularisation. Duality gap: 5.383e+04, tolerance: 5.719e+01\n",
      "  model = cd_fast.enet_coordinate_descent(\n",
      "/Users/mihir/anaconda3/lib/python3.10/site-packages/sklearn/linear_model/_coordinate_descent.py:631: ConvergenceWarning: Objective did not converge. You might want to increase the number of iterations, check the scale of the features or consider increasing regularisation. Duality gap: 5.590e+04, tolerance: 6.254e+01\n",
      "  model = cd_fast.enet_coordinate_descent(\n",
      "/Users/mihir/anaconda3/lib/python3.10/site-packages/sklearn/linear_model/_coordinate_descent.py:631: ConvergenceWarning: Objective did not converge. You might want to increase the number of iterations, check the scale of the features or consider increasing regularisation. Duality gap: 5.217e+04, tolerance: 6.365e+01\n",
      "  model = cd_fast.enet_coordinate_descent(\n",
      "/Users/mihir/anaconda3/lib/python3.10/site-packages/sklearn/linear_model/_coordinate_descent.py:631: ConvergenceWarning: Objective did not converge. You might want to increase the number of iterations, check the scale of the features or consider increasing regularisation. Duality gap: 3.662e+04, tolerance: 5.254e+01\n",
      "  model = cd_fast.enet_coordinate_descent(\n",
      "/Users/mihir/anaconda3/lib/python3.10/site-packages/sklearn/linear_model/_coordinate_descent.py:631: ConvergenceWarning: Objective did not converge. You might want to increase the number of iterations, check the scale of the features or consider increasing regularisation. Duality gap: 4.920e+04, tolerance: 5.719e+01\n",
      "  model = cd_fast.enet_coordinate_descent(\n",
      "/Users/mihir/anaconda3/lib/python3.10/site-packages/sklearn/linear_model/_coordinate_descent.py:631: ConvergenceWarning: Objective did not converge. You might want to increase the number of iterations, check the scale of the features or consider increasing regularisation. Duality gap: 4.486e+04, tolerance: 6.365e+01\n",
      "  model = cd_fast.enet_coordinate_descent(\n",
      "/Users/mihir/anaconda3/lib/python3.10/site-packages/sklearn/linear_model/_coordinate_descent.py:631: ConvergenceWarning: Objective did not converge. You might want to increase the number of iterations, check the scale of the features or consider increasing regularisation. Duality gap: 1.354e+04, tolerance: 5.689e+01\n",
      "  model = cd_fast.enet_coordinate_descent(\n",
      "/Users/mihir/anaconda3/lib/python3.10/site-packages/sklearn/linear_model/_coordinate_descent.py:631: ConvergenceWarning: Objective did not converge. You might want to increase the number of iterations, check the scale of the features or consider increasing regularisation. Duality gap: 3.513e+04, tolerance: 5.719e+01\n",
      "  model = cd_fast.enet_coordinate_descent(\n",
      "/Users/mihir/anaconda3/lib/python3.10/site-packages/sklearn/linear_model/_coordinate_descent.py:631: ConvergenceWarning: Objective did not converge. You might want to increase the number of iterations, check the scale of the features or consider increasing regularisation. Duality gap: 2.935e+04, tolerance: 6.365e+01\n",
      "  model = cd_fast.enet_coordinate_descent(\n",
      "/Users/mihir/anaconda3/lib/python3.10/site-packages/sklearn/linear_model/_coordinate_descent.py:631: ConvergenceWarning: Objective did not converge. You might want to increase the number of iterations, check the scale of the features or consider increasing regularisation. Duality gap: 2.847e+04, tolerance: 5.689e+01\n",
      "  model = cd_fast.enet_coordinate_descent(\n",
      "/Users/mihir/anaconda3/lib/python3.10/site-packages/sklearn/linear_model/_coordinate_descent.py:631: ConvergenceWarning: Objective did not converge. You might want to increase the number of iterations, check the scale of the features or consider increasing regularisation. Duality gap: 4.091e+04, tolerance: 6.254e+01\n",
      "  model = cd_fast.enet_coordinate_descent(\n",
      "/Users/mihir/anaconda3/lib/python3.10/site-packages/sklearn/linear_model/_coordinate_descent.py:631: ConvergenceWarning: Objective did not converge. You might want to increase the number of iterations, check the scale of the features or consider increasing regularisation. Duality gap: 5.249e+04, tolerance: 6.254e+01\n",
      "  model = cd_fast.enet_coordinate_descent(\n",
      "/Users/mihir/anaconda3/lib/python3.10/site-packages/sklearn/linear_model/_coordinate_descent.py:631: ConvergenceWarning: Objective did not converge. You might want to increase the number of iterations, check the scale of the features or consider increasing regularisation. Duality gap: 3.875e+03, tolerance: 5.719e+01\n",
      "  model = cd_fast.enet_coordinate_descent(\n",
      "/Users/mihir/anaconda3/lib/python3.10/site-packages/sklearn/linear_model/_coordinate_descent.py:631: ConvergenceWarning: Objective did not converge. You might want to increase the number of iterations, check the scale of the features or consider increasing regularisation. Duality gap: 2.674e+04, tolerance: 5.254e+01\n",
      "  model = cd_fast.enet_coordinate_descent(\n",
      "/Users/mihir/anaconda3/lib/python3.10/site-packages/sklearn/linear_model/_coordinate_descent.py:631: ConvergenceWarning: Objective did not converge. You might want to increase the number of iterations, check the scale of the features or consider increasing regularisation. Duality gap: 1.213e+04, tolerance: 5.254e+01\n",
      "  model = cd_fast.enet_coordinate_descent(\n",
      "/Users/mihir/anaconda3/lib/python3.10/site-packages/sklearn/linear_model/_coordinate_descent.py:631: ConvergenceWarning: Objective did not converge. You might want to increase the number of iterations, check the scale of the features or consider increasing regularisation. Duality gap: 2.098e+03, tolerance: 6.365e+01\n",
      "  model = cd_fast.enet_coordinate_descent(\n",
      "/Users/mihir/anaconda3/lib/python3.10/site-packages/sklearn/linear_model/_coordinate_descent.py:631: ConvergenceWarning: Objective did not converge. You might want to increase the number of iterations, check the scale of the features or consider increasing regularisation. Duality gap: 2.641e+03, tolerance: 5.254e+01\n",
      "  model = cd_fast.enet_coordinate_descent(\n",
      "/Users/mihir/anaconda3/lib/python3.10/site-packages/sklearn/linear_model/_coordinate_descent.py:631: ConvergenceWarning: Objective did not converge. You might want to increase the number of iterations, check the scale of the features or consider increasing regularisation. Duality gap: 9.418e+02, tolerance: 5.689e+01\n",
      "  model = cd_fast.enet_coordinate_descent(\n",
      "/Users/mihir/anaconda3/lib/python3.10/site-packages/sklearn/linear_model/_coordinate_descent.py:631: ConvergenceWarning: Objective did not converge. You might want to increase the number of iterations, check the scale of the features or consider increasing regularisation. Duality gap: 1.038e+04, tolerance: 6.254e+01\n",
      "  model = cd_fast.enet_coordinate_descent(\n",
      "/Users/mihir/anaconda3/lib/python3.10/site-packages/sklearn/linear_model/_coordinate_descent.py:631: ConvergenceWarning: Objective did not converge. You might want to increase the number of iterations, check the scale of the features or consider increasing regularisation. Duality gap: 8.712e+01, tolerance: 5.719e+01\n",
      "  model = cd_fast.enet_coordinate_descent(\n",
      "/Users/mihir/anaconda3/lib/python3.10/site-packages/sklearn/linear_model/_coordinate_descent.py:631: ConvergenceWarning: Objective did not converge. You might want to increase the number of iterations, check the scale of the features or consider increasing regularisation. Duality gap: 5.184e+02, tolerance: 6.365e+01\n",
      "  model = cd_fast.enet_coordinate_descent(\n"
     ]
    },
    {
     "data": {
      "text/plain": [
       "(4.281332398719396, 3054.8060238646767)"
      ]
     },
     "execution_count": 20,
     "metadata": {},
     "output_type": "execute_result"
    }
   ],
   "source": [
    "from sklearn.model_selection import GridSearchCV\n",
    "import numpy as np\n",
    "\n",
    "# Define the range of hyperparameters to search\n",
    "param_grid = {\n",
    "    'alpha': np.logspace(-4, 4, 20)\n",
    "}\n",
    "\n",
    "# Use GridSearchCV to find the best hyperparameters\n",
    "lasso_search = GridSearchCV(Lasso(), param_grid, cv=5, scoring='neg_mean_squared_error', n_jobs=-1)\n",
    "lasso_search.fit(X_train_scaled, y_train)\n",
    "\n",
    "# Get the best hyperparameters and the corresponding mean squared error\n",
    "best_alpha = lasso_search.best_params_['alpha']\n",
    "best_mse = -lasso_search.best_score_\n",
    "\n",
    "best_alpha, best_mse\n"
   ]
  },
  {
   "cell_type": "code",
   "execution_count": 22,
   "metadata": {},
   "outputs": [
    {
     "data": {
      "text/plain": [
       "4097.427578620105"
      ]
     },
     "execution_count": 22,
     "metadata": {},
     "output_type": "execute_result"
    }
   ],
   "source": [
    "# Train the Lasso model with the optimal alpha value\n",
    "optimized_lasso = Lasso(alpha=best_alpha)\n",
    "optimized_lasso.fit(X_train_scaled, y_train)\n",
    "\n",
    "# Predict on validation set using the optimized model\n",
    "y_val_pred_optimized = optimized_lasso.predict(X_val_scaled)\n",
    "\n",
    "# Calculate mean squared error on validation set for the optimized model\n",
    "mse_optimized = mean_squared_error(y_val, y_val_pred_optimized)\n",
    "mse_optimized"
   ]
  },
  {
   "cell_type": "code",
   "execution_count": 23,
   "metadata": {},
   "outputs": [
    {
     "data": {
      "text/plain": [
       "(128, 6)"
      ]
     },
     "execution_count": 23,
     "metadata": {},
     "output_type": "execute_result"
    }
   ],
   "source": [
    "from sklearn.feature_selection import RFECV\n",
    "from sklearn.linear_model import LinearRegression\n",
    "\n",
    "# Use Recursive Feature Elimination with Cross-Validation\n",
    "selector = RFECV(LinearRegression(), step=1, cv=5, scoring='neg_mean_squared_error', n_jobs=-1)\n",
    "selector = selector.fit(X_train_scaled, y_train)\n",
    "\n",
    "# Select important features based on RFE\n",
    "X_train_selected = X_train_scaled[:, selector.support_]\n",
    "X_val_selected = X_val_scaled[:, selector.support_]\n",
    "\n",
    "X_train_selected.shape"
   ]
  },
  {
   "cell_type": "code",
   "execution_count": 24,
   "metadata": {},
   "outputs": [
    {
     "data": {
      "text/plain": [
       "4926.062340631568"
      ]
     },
     "execution_count": 24,
     "metadata": {},
     "output_type": "execute_result"
    }
   ],
   "source": [
    "# Train the Lasso model with the optimal alpha value on the selected features\n",
    "optimized_lasso_selected = Lasso(alpha=best_alpha)\n",
    "optimized_lasso_selected.fit(X_train_selected, y_train)\n",
    "\n",
    "# Predict on validation set using the optimized model with selected features\n",
    "y_val_pred_selected = optimized_lasso_selected.predict(X_val_selected)\n",
    "\n",
    "# Calculate mean squared error on validation set for the optimized model with selected features\n",
    "mse_selected = mean_squared_error(y_val, y_val_pred_selected)\n",
    "mse_selected"
   ]
  },
  {
   "cell_type": "code",
   "execution_count": 25,
   "metadata": {},
   "outputs": [
    {
     "data": {
      "text/plain": [
       "3695.3443360718306"
      ]
     },
     "execution_count": 25,
     "metadata": {},
     "output_type": "execute_result"
    }
   ],
   "source": [
    "from sklearn.ensemble import GradientBoostingRegressor\n",
    "\n",
    "# Initialize a basic Gradient Boosting Regressor\n",
    "gbm = GradientBoostingRegressor(random_state=42)\n",
    "\n",
    "# Train the model\n",
    "gbm.fit(X_train_scaled, y_train)\n",
    "\n",
    "# Predict on the validation set\n",
    "y_val_pred_gbm = gbm.predict(X_val_scaled)\n",
    "\n",
    "# Calculate mean squared error for the basic Gradient Boosting Regressor\n",
    "mse_gbm = mean_squared_error(y_val, y_val_pred_gbm)\n",
    "mse_gbm"
   ]
  },
  {
   "cell_type": "code",
   "execution_count": 26,
   "metadata": {},
   "outputs": [
    {
     "name": "stdout",
     "output_type": "stream",
     "text": [
      "Fitting 5 folds for each of 972 candidates, totalling 4860 fits\n"
     ]
    },
    {
     "data": {
      "text/plain": [
       "({'learning_rate': 0.05,\n",
       "  'max_depth': 3,\n",
       "  'min_samples_leaf': 2,\n",
       "  'min_samples_split': 2,\n",
       "  'n_estimators': 50,\n",
       "  'subsample': 1.0},\n",
       " 3310.024626648622)"
      ]
     },
     "execution_count": 26,
     "metadata": {},
     "output_type": "execute_result"
    }
   ],
   "source": [
    "# Define the range of hyperparameters to search for Gradient Boosting Regressor\n",
    "param_grid_gbm = {\n",
    "    'n_estimators': [50, 100, 150],\n",
    "    'learning_rate': [0.01, 0.05, 0.1, 0.5],\n",
    "    'max_depth': [3, 4, 5],\n",
    "    'min_samples_split': [2, 3, 4],\n",
    "    'min_samples_leaf': [1, 2, 3],\n",
    "    'subsample': [0.8, 0.9, 1.0]\n",
    "}\n",
    "\n",
    "# Use GridSearchCV to find the best hyperparameters for Gradient Boosting Regressor\n",
    "gbm_search = GridSearchCV(GradientBoostingRegressor(random_state=42), param_grid_gbm, \n",
    "                          cv=5, scoring='neg_mean_squared_error', n_jobs=-1, verbose=1)\n",
    "\n",
    "gbm_search.fit(X_train_scaled, y_train)\n",
    "\n",
    "# Get the best hyperparameters and the corresponding mean squared error\n",
    "best_params_gbm = gbm_search.best_params_\n",
    "best_mse_gbm = -gbm_search.best_score_\n",
    "\n",
    "best_params_gbm, best_mse_gbm\n"
   ]
  },
  {
   "cell_type": "code",
   "execution_count": 27,
   "metadata": {},
   "outputs": [
    {
     "data": {
      "text/plain": [
       "3480.028037158167"
      ]
     },
     "execution_count": 27,
     "metadata": {},
     "output_type": "execute_result"
    }
   ],
   "source": [
    "# Train the Gradient Boosting Regressor with the optimized hyperparameters\n",
    "optimized_gbm = GradientBoostingRegressor(\n",
    "    learning_rate=0.05,\n",
    "    max_depth=3,\n",
    "    min_samples_leaf=2,\n",
    "    min_samples_split=2,\n",
    "    n_estimators=50,\n",
    "    subsample=1.0,\n",
    "    random_state=42\n",
    ")\n",
    "\n",
    "optimized_gbm.fit(X_train_scaled, y_train)\n",
    "\n",
    "# Predict on the validation set using the optimized model\n",
    "y_val_pred_optimized_gbm = optimized_gbm.predict(X_val_scaled)\n",
    "\n",
    "# Calculate mean squared error for the optimized Gradient Boosting Regressor\n",
    "mse_optimized_gbm = mean_squared_error(y_val, y_val_pred_optimized_gbm)\n",
    "mse_optimized_gbm\n"
   ]
  },
  {
   "cell_type": "code",
   "execution_count": 31,
   "metadata": {},
   "outputs": [
    {
     "data": {
      "text/plain": [
       "'explore_submission.csv'"
      ]
     },
     "execution_count": 31,
     "metadata": {},
     "output_type": "execute_result"
    }
   ],
   "source": [
    "# Scale the test data using the previously defined scaler\n",
    "x_test_scaled = scaler.transform(test_data.drop('id', axis=1))\n",
    "\n",
    "# Predict diabetic levels for the test data using the optimized Gradient Boosting Regressor\n",
    "y_test_pred = optimized_gbm.predict(x_test_scaled)\n",
    "\n",
    "# Create a DataFrame for the submission\n",
    "submission_df = pd.DataFrame({\n",
    "    'id': test_data['id'],\n",
    "    'y': y_test_pred\n",
    "})\n",
    "\n",
    "# Save the submission DataFrame to a CSV file\n",
    "submission_path = 'explore_submission.csv'\n",
    "submission_df.to_csv(submission_path, index=False)\n",
    "\n",
    "submission_path"
   ]
  },
  {
   "cell_type": "markdown",
   "metadata": {},
   "source": [
    "Nothing next needed"
   ]
  },
  {
   "cell_type": "code",
   "execution_count": null,
   "metadata": {},
   "outputs": [
    {
     "data": {
      "text/plain": [
       "4847.6910748298305"
      ]
     },
     "execution_count": 11,
     "metadata": {},
     "output_type": "execute_result"
    }
   ],
   "source": [
    "import xgboost as xgb\n",
    "\n",
    "# Initialize a basic XGBoost regressor\n",
    "xgb_regressor = xgb.XGBRegressor(objective ='reg:squarederror', random_state=42)\n",
    "\n",
    "# Train the model\n",
    "xgb_regressor.fit(X_train_scaled, y_train)\n",
    "\n",
    "# Predict on the validation set\n",
    "y_val_pred_xgb = xgb_regressor.predict(X_val_scaled)\n",
    "\n",
    "# Calculate mean squared error for the basic XGBoost regressor\n",
    "mse_xgb = mean_squared_error(y_val, y_val_pred_xgb)\n",
    "mse_xgb\n"
   ]
  },
  {
   "cell_type": "code",
   "execution_count": null,
   "metadata": {},
   "outputs": [
    {
     "name": "stdout",
     "output_type": "stream",
     "text": [
      "Fitting 5 folds for each of 50 candidates, totalling 250 fits\n"
     ]
    },
    {
     "data": {
      "text/plain": [
       "({'subsample': 1.0,\n",
       "  'n_estimators': 200,\n",
       "  'min_child_weight': 2,\n",
       "  'max_depth': 3,\n",
       "  'learning_rate': 0.01,\n",
       "  'colsample_bytree': 0.9},\n",
       " 3545.4923269698716)"
      ]
     },
     "execution_count": 12,
     "metadata": {},
     "output_type": "execute_result"
    }
   ],
   "source": [
    "from sklearn.model_selection import RandomizedSearchCV\n",
    "\n",
    "# Define hyperparameters for XGBoost\n",
    "param_dist = {\n",
    "    'n_estimators': [50, 100, 150, 200],\n",
    "    'learning_rate': [0.01, 0.05, 0.1, 0.5],\n",
    "    'max_depth': [3, 4, 5, 6],\n",
    "    'min_child_weight': [1, 2, 3],\n",
    "    'subsample': [0.8, 0.9, 1.0],\n",
    "    'colsample_bytree': [0.8, 0.9, 1.0]\n",
    "}\n",
    "\n",
    "# Use RandomizedSearchCV for hyperparameter optimization\n",
    "xgb_search = RandomizedSearchCV(\n",
    "    xgb.XGBRegressor(objective='reg:squarederror', random_state=42),\n",
    "    param_distributions=param_dist,\n",
    "    n_iter=50,\n",
    "    scoring='neg_mean_squared_error',\n",
    "    cv=5,\n",
    "    n_jobs=-1,\n",
    "    verbose=1,\n",
    "    random_state=42\n",
    ")\n",
    "\n",
    "xgb_search.fit(X_train_scaled, y_train)\n",
    "\n",
    "# Get the best hyperparameters and the corresponding mean squared error\n",
    "best_params_xgb = xgb_search.best_params_\n",
    "best_mse_xgb = -xgb_search.best_score_\n",
    "\n",
    "best_params_xgb, best_mse_xgb\n"
   ]
  },
  {
   "cell_type": "code",
   "execution_count": null,
   "metadata": {},
   "outputs": [
    {
     "data": {
      "text/plain": [
       "3648.1118834584686"
      ]
     },
     "execution_count": 13,
     "metadata": {},
     "output_type": "execute_result"
    }
   ],
   "source": [
    "# Train the XGBoost regressor with the optimized hyperparameters\n",
    "optimized_xgb = xgb.XGBRegressor(\n",
    "    subsample=1.0,\n",
    "    n_estimators=200,\n",
    "    min_child_weight=2,\n",
    "    max_depth=3,\n",
    "    learning_rate=0.01,\n",
    "    colsample_bytree=0.9,\n",
    "    objective='reg:squarederror',\n",
    "    random_state=42\n",
    ")\n",
    "\n",
    "optimized_xgb.fit(X_train_scaled, y_train)\n",
    "\n",
    "# Predict on the validation set using the optimized model\n",
    "y_val_pred_optimized_xgb = optimized_xgb.predict(X_val_scaled)\n",
    "\n",
    "# Calculate mean squared error for the optimized XGBoost regressor\n",
    "mse_optimized_xgb = mean_squared_error(y_val, y_val_pred_optimized_xgb)\n",
    "mse_optimized_xgb\n"
   ]
  },
  {
   "cell_type": "code",
   "execution_count": null,
   "metadata": {},
   "outputs": [
    {
     "ename": "NameError",
     "evalue": "name 'X_test' is not defined",
     "output_type": "error",
     "traceback": [
      "\u001b[0;31m---------------------------------------------------------------------------\u001b[0m",
      "\u001b[0;31mNameError\u001b[0m                                 Traceback (most recent call last)",
      "\u001b[1;32m/Users/mihir/Library/CloudStorage/OneDrive-ThePennsylvaniaStateUniversity/DS 310/Project 1/DiabeticPrediction/explore.ipynb Cell 14\u001b[0m line \u001b[0;36m2\n\u001b[1;32m      <a href='vscode-notebook-cell:/Users/mihir/Library/CloudStorage/OneDrive-ThePennsylvaniaStateUniversity/DS%20310/Project%201/DiabeticPrediction/explore.ipynb#X16sZmlsZQ%3D%3D?line=0'>1</a>\u001b[0m \u001b[39m# Scale the test data\u001b[39;00m\n\u001b[0;32m----> <a href='vscode-notebook-cell:/Users/mihir/Library/CloudStorage/OneDrive-ThePennsylvaniaStateUniversity/DS%20310/Project%201/DiabeticPrediction/explore.ipynb#X16sZmlsZQ%3D%3D?line=1'>2</a>\u001b[0m X_test_scaled \u001b[39m=\u001b[39m scaler\u001b[39m.\u001b[39mtransform(X_test)\n\u001b[1;32m      <a href='vscode-notebook-cell:/Users/mihir/Library/CloudStorage/OneDrive-ThePennsylvaniaStateUniversity/DS%20310/Project%201/DiabeticPrediction/explore.ipynb#X16sZmlsZQ%3D%3D?line=3'>4</a>\u001b[0m \u001b[39m# Predict using the optimized XGBoost regressor\u001b[39;00m\n\u001b[1;32m      <a href='vscode-notebook-cell:/Users/mihir/Library/CloudStorage/OneDrive-ThePennsylvaniaStateUniversity/DS%20310/Project%201/DiabeticPrediction/explore.ipynb#X16sZmlsZQ%3D%3D?line=4'>5</a>\u001b[0m y_test_pred \u001b[39m=\u001b[39m optimized_xgb\u001b[39m.\u001b[39mpredict(X_test_scaled)\n",
      "\u001b[0;31mNameError\u001b[0m: name 'X_test' is not defined"
     ]
    }
   ],
   "source": [
    "# Scale the test data\n",
    "X_test_scaled = scaler.transform(X_test)\n",
    "\n",
    "# Predict using the optimized XGBoost regressor\n",
    "y_test_pred = optimized_xgb.predict(X_test_scaled)\n",
    "\n",
    "# Create the submission dataframe\n",
    "submission_df = pd.DataFrame({\n",
    "    'id': test_ids,\n",
    "    'y': y_test_pred\n",
    "})\n",
    "\n",
    "submission_df.head()\n"
   ]
  }
 ],
 "metadata": {
  "kernelspec": {
   "display_name": "base",
   "language": "python",
   "name": "python3"
  },
  "language_info": {
   "codemirror_mode": {
    "name": "ipython",
    "version": 3
   },
   "file_extension": ".py",
   "mimetype": "text/x-python",
   "name": "python",
   "nbconvert_exporter": "python",
   "pygments_lexer": "ipython3",
   "version": "3.10.12"
  },
  "orig_nbformat": 4
 },
 "nbformat": 4,
 "nbformat_minor": 2
}
