{
 "cells": [
  {
   "cell_type": "code",
   "execution_count": 1,
   "metadata": {},
   "outputs": [
    {
     "data": {
      "text/plain": [
       "1710.6670090547075"
      ]
     },
     "execution_count": 1,
     "metadata": {},
     "output_type": "execute_result"
    }
   ],
   "source": [
    "import pandas as pd\n",
    "\n",
    "# Load datasets\n",
    "train_data = pd.read_csv('train.csv')\n",
    "x_test = pd.read_csv('x_test.csv')\n",
    "sample_submission = pd.read_csv('sample_submission.csv')\n",
    "\n",
    "# Display first few rows of each dataset\n",
    "train_data.head(), x_test.head(), sample_submission.head()\n",
    "\n",
    "from sklearn.preprocessing import StandardScaler\n",
    "\n",
    "# Extracting features and target from the training data\n",
    "X_train = train_data.drop(columns=['id', 'y'])\n",
    "y_train = train_data['y']\n",
    "\n",
    "# Initializing the scaler\n",
    "scaler = StandardScaler()\n",
    "\n",
    "# Fitting the scaler on the training data and transforming both training and test data\n",
    "X_train_scaled = scaler.fit_transform(X_train)\n",
    "X_test_scaled = scaler.transform(x_test.drop(columns=['id']))\n",
    "\n",
    "X_train_scaled[:5], X_test_scaled[:5]  # Display first 5 rows of scaled data for both training and test sets\n",
    "\n",
    "from sklearn.linear_model import LinearRegression\n",
    "from sklearn.metrics import mean_squared_error\n",
    "\n",
    "# Initialize the linear regression model\n",
    "lr_model = LinearRegression()\n",
    "\n",
    "# Train the model\n",
    "lr_model.fit(X_train_scaled, y_train)\n",
    "\n",
    "# Predict on training data for evaluation\n",
    "y_train_pred = lr_model.predict(X_train_scaled)\n",
    "\n",
    "# Calculate the MSE on training data\n",
    "mse_train = mean_squared_error(y_train, y_train_pred)\n",
    "\n",
    "mse_train\n",
    "\n"
   ]
  },
  {
   "cell_type": "code",
   "execution_count": 2,
   "metadata": {},
   "outputs": [
    {
     "data": {
      "text/plain": [
       "(1813.7723061914548, 2031.209448053145)"
      ]
     },
     "execution_count": 2,
     "metadata": {},
     "output_type": "execute_result"
    }
   ],
   "source": [
    "from sklearn.linear_model import Ridge, Lasso\n",
    "\n",
    "# Initialize Ridge and Lasso models\n",
    "ridge_model = Ridge()\n",
    "lasso_model = Lasso()\n",
    "\n",
    "# Train the models\n",
    "ridge_model.fit(X_train_scaled, y_train)\n",
    "lasso_model.fit(X_train_scaled, y_train)\n",
    "\n",
    "# Predict on training data for evaluation\n",
    "y_train_pred_ridge = ridge_model.predict(X_train_scaled)\n",
    "y_train_pred_lasso = lasso_model.predict(X_train_scaled)\n",
    "\n",
    "# Calculate the MSE on training data for both models\n",
    "mse_train_ridge = mean_squared_error(y_train, y_train_pred_ridge)\n",
    "mse_train_lasso = mean_squared_error(y_train, y_train_pred_lasso)\n",
    "\n",
    "mse_train_ridge, mse_train_lasso\n"
   ]
  },
  {
   "cell_type": "code",
   "execution_count": 4,
   "metadata": {},
   "outputs": [
    {
     "name": "stderr",
     "output_type": "stream",
     "text": [
      "/Users/mihir/anaconda3/lib/python3.10/site-packages/sklearn/linear_model/_coordinate_descent.py:631: ConvergenceWarning: Objective did not converge. You might want to increase the number of iterations, check the scale of the features or consider increasing regularisation. Duality gap: 9.484e+04, tolerance: 7.976e+01\n",
      "  model = cd_fast.enet_coordinate_descent(\n",
      "/Users/mihir/anaconda3/lib/python3.10/site-packages/sklearn/linear_model/_coordinate_descent.py:631: ConvergenceWarning: Objective did not converge. You might want to increase the number of iterations, check the scale of the features or consider increasing regularisation. Duality gap: 8.813e+04, tolerance: 7.245e+01\n",
      "  model = cd_fast.enet_coordinate_descent(\n",
      "/Users/mihir/anaconda3/lib/python3.10/site-packages/sklearn/linear_model/_coordinate_descent.py:631: ConvergenceWarning: Objective did not converge. You might want to increase the number of iterations, check the scale of the features or consider increasing regularisation. Duality gap: 1.038e+05, tolerance: 7.837e+01\n",
      "  model = cd_fast.enet_coordinate_descent(\n",
      "/Users/mihir/anaconda3/lib/python3.10/site-packages/sklearn/linear_model/_coordinate_descent.py:631: ConvergenceWarning: Objective did not converge. You might want to increase the number of iterations, check the scale of the features or consider increasing regularisation. Duality gap: 9.186e+04, tolerance: 7.363e+01\n",
      "  model = cd_fast.enet_coordinate_descent(\n",
      "/Users/mihir/anaconda3/lib/python3.10/site-packages/sklearn/linear_model/_coordinate_descent.py:631: ConvergenceWarning: Objective did not converge. You might want to increase the number of iterations, check the scale of the features or consider increasing regularisation. Duality gap: 9.615e+04, tolerance: 6.521e+01\n",
      "  model = cd_fast.enet_coordinate_descent(\n",
      "/Users/mihir/anaconda3/lib/python3.10/site-packages/sklearn/linear_model/_coordinate_descent.py:631: ConvergenceWarning: Objective did not converge. You might want to increase the number of iterations, check the scale of the features or consider increasing regularisation. Duality gap: 7.471e+04, tolerance: 7.976e+01\n",
      "  model = cd_fast.enet_coordinate_descent(\n",
      "/Users/mihir/anaconda3/lib/python3.10/site-packages/sklearn/linear_model/_coordinate_descent.py:631: ConvergenceWarning: Objective did not converge. You might want to increase the number of iterations, check the scale of the features or consider increasing regularisation. Duality gap: 7.850e+04, tolerance: 7.245e+01\n",
      "  model = cd_fast.enet_coordinate_descent(\n",
      "/Users/mihir/anaconda3/lib/python3.10/site-packages/sklearn/linear_model/_coordinate_descent.py:631: ConvergenceWarning: Objective did not converge. You might want to increase the number of iterations, check the scale of the features or consider increasing regularisation. Duality gap: 7.148e+04, tolerance: 7.837e+01\n",
      "  model = cd_fast.enet_coordinate_descent(\n",
      "/Users/mihir/anaconda3/lib/python3.10/site-packages/sklearn/linear_model/_coordinate_descent.py:631: ConvergenceWarning: Objective did not converge. You might want to increase the number of iterations, check the scale of the features or consider increasing regularisation. Duality gap: 5.881e+04, tolerance: 7.363e+01\n",
      "  model = cd_fast.enet_coordinate_descent(\n",
      "/Users/mihir/anaconda3/lib/python3.10/site-packages/sklearn/linear_model/_coordinate_descent.py:631: ConvergenceWarning: Objective did not converge. You might want to increase the number of iterations, check the scale of the features or consider increasing regularisation. Duality gap: 7.151e+04, tolerance: 6.521e+01\n",
      "  model = cd_fast.enet_coordinate_descent(\n",
      "/Users/mihir/anaconda3/lib/python3.10/site-packages/sklearn/linear_model/_coordinate_descent.py:631: ConvergenceWarning: Objective did not converge. You might want to increase the number of iterations, check the scale of the features or consider increasing regularisation. Duality gap: 2.298e+03, tolerance: 7.976e+01\n",
      "  model = cd_fast.enet_coordinate_descent(\n",
      "/Users/mihir/anaconda3/lib/python3.10/site-packages/sklearn/linear_model/_coordinate_descent.py:631: ConvergenceWarning: Objective did not converge. You might want to increase the number of iterations, check the scale of the features or consider increasing regularisation. Duality gap: 5.560e+02, tolerance: 7.245e+01\n",
      "  model = cd_fast.enet_coordinate_descent(\n",
      "/Users/mihir/anaconda3/lib/python3.10/site-packages/sklearn/linear_model/_coordinate_descent.py:631: ConvergenceWarning: Objective did not converge. You might want to increase the number of iterations, check the scale of the features or consider increasing regularisation. Duality gap: 6.779e+02, tolerance: 7.837e+01\n",
      "  model = cd_fast.enet_coordinate_descent(\n",
      "/Users/mihir/anaconda3/lib/python3.10/site-packages/sklearn/linear_model/_coordinate_descent.py:631: ConvergenceWarning: Objective did not converge. You might want to increase the number of iterations, check the scale of the features or consider increasing regularisation. Duality gap: 1.906e+02, tolerance: 7.363e+01\n",
      "  model = cd_fast.enet_coordinate_descent(\n",
      "/Users/mihir/anaconda3/lib/python3.10/site-packages/sklearn/linear_model/_coordinate_descent.py:631: ConvergenceWarning: Objective did not converge. You might want to increase the number of iterations, check the scale of the features or consider increasing regularisation. Duality gap: 4.949e+02, tolerance: 6.521e+01\n",
      "  model = cd_fast.enet_coordinate_descent(\n"
     ]
    },
    {
     "data": {
      "text/html": [
       "<div>\n",
       "<style scoped>\n",
       "    .dataframe tbody tr th:only-of-type {\n",
       "        vertical-align: middle;\n",
       "    }\n",
       "\n",
       "    .dataframe tbody tr th {\n",
       "        vertical-align: top;\n",
       "    }\n",
       "\n",
       "    .dataframe thead th {\n",
       "        text-align: right;\n",
       "    }\n",
       "</style>\n",
       "<table border=\"1\" class=\"dataframe\">\n",
       "  <thead>\n",
       "    <tr style=\"text-align: right;\">\n",
       "      <th></th>\n",
       "      <th>id</th>\n",
       "      <th>y</th>\n",
       "    </tr>\n",
       "  </thead>\n",
       "  <tbody>\n",
       "    <tr>\n",
       "      <th>0</th>\n",
       "      <td>160</td>\n",
       "      <td>107.887927</td>\n",
       "    </tr>\n",
       "    <tr>\n",
       "      <th>1</th>\n",
       "      <td>161</td>\n",
       "      <td>227.246385</td>\n",
       "    </tr>\n",
       "    <tr>\n",
       "      <th>2</th>\n",
       "      <td>162</td>\n",
       "      <td>138.843740</td>\n",
       "    </tr>\n",
       "    <tr>\n",
       "      <th>3</th>\n",
       "      <td>163</td>\n",
       "      <td>176.657423</td>\n",
       "    </tr>\n",
       "    <tr>\n",
       "      <th>4</th>\n",
       "      <td>164</td>\n",
       "      <td>149.088094</td>\n",
       "    </tr>\n",
       "  </tbody>\n",
       "</table>\n",
       "</div>"
      ],
      "text/plain": [
       "    id           y\n",
       "0  160  107.887927\n",
       "1  161  227.246385\n",
       "2  162  138.843740\n",
       "3  163  176.657423\n",
       "4  164  149.088094"
      ]
     },
     "execution_count": 4,
     "metadata": {},
     "output_type": "execute_result"
    }
   ],
   "source": [
    "from sklearn.model_selection import GridSearchCV\n",
    "\n",
    "# Define the hyperparameters to search\n",
    "param_grid = {\n",
    "    'alpha': [0.001, 0.01, 0.1, 1.0, 10.0, 100.0]\n",
    "}\n",
    "\n",
    "# Grid search with cross-validation for Ridge regression\n",
    "ridge_search = GridSearchCV(Ridge(), param_grid, cv=5, scoring='neg_mean_squared_error')\n",
    "ridge_search.fit(X_train_scaled, y_train)\n",
    "\n",
    "# Grid search with cross-validation for Lasso regression\n",
    "lasso_search = GridSearchCV(Lasso(), param_grid, cv=5, scoring='neg_mean_squared_error')\n",
    "lasso_search.fit(X_train_scaled, y_train)\n",
    "\n",
    "# Get the best parameters and scores for both models\n",
    "best_alpha_ridge = ridge_search.best_params_['alpha']\n",
    "best_mse_ridge = -ridge_search.best_score_\n",
    "\n",
    "best_alpha_lasso = lasso_search.best_params_['alpha']\n",
    "best_mse_lasso = -lasso_search.best_score_\n",
    "\n",
    "best_alpha_ridge, best_mse_ridge, best_alpha_lasso, best_mse_lasso\n",
    "\n",
    "# Predict on the test data using the best Lasso model\n",
    "y_test_pred = lasso_search.best_estimator_.predict(X_test_scaled)\n",
    "\n",
    "# Preparing the submission dataframe\n",
    "submission = x_test[['id']].copy()\n",
    "submission['y'] = y_test_pred\n",
    "\n",
    "submission.head()\n",
    "\n"
   ]
  },
  {
   "cell_type": "code",
   "execution_count": 5,
   "metadata": {},
   "outputs": [
    {
     "data": {
      "text/plain": [
       "71.12658100462362"
      ]
     },
     "execution_count": 5,
     "metadata": {},
     "output_type": "execute_result"
    }
   ],
   "source": [
    "from sklearn.ensemble import GradientBoostingRegressor\n",
    "\n",
    "# Initialize the gradient boosting regressor\n",
    "gb_model = GradientBoostingRegressor(n_estimators=100, random_state=42)\n",
    "\n",
    "# Train the model\n",
    "gb_model.fit(X_train_scaled, y_train)\n",
    "\n",
    "# Predict on training data for evaluation\n",
    "y_train_pred_gb = gb_model.predict(X_train_scaled)\n",
    "\n",
    "# Calculate the MSE on training data\n",
    "mse_train_gb = mean_squared_error(y_train, y_train_pred_gb)\n",
    "\n",
    "mse_train_gb\n"
   ]
  },
  {
   "cell_type": "code",
   "execution_count": 6,
   "metadata": {},
   "outputs": [
    {
     "data": {
      "text/plain": [
       "(4442.096981260921, 510.3552826913761)"
      ]
     },
     "execution_count": 6,
     "metadata": {},
     "output_type": "execute_result"
    }
   ],
   "source": [
    "from sklearn.model_selection import cross_val_score\n",
    "\n",
    "# Perform cross-validation on the Gradient Boosting Regressor\n",
    "cv_scores = cross_val_score(gb_model, X_train_scaled, y_train, cv=5, scoring='neg_mean_squared_error')\n",
    "\n",
    "# Calculate mean and standard deviation of cross-validation scores\n",
    "mean_mse_gb_cv = -cv_scores.mean()\n",
    "std_mse_gb_cv = cv_scores.std()\n",
    "\n",
    "mean_mse_gb_cv, std_mse_gb_cv\n"
   ]
  },
  {
   "cell_type": "code",
   "execution_count": 9,
   "metadata": {},
   "outputs": [
    {
     "name": "stdout",
     "output_type": "stream",
     "text": [
      "{'learning_rate': 0.01, 'max_depth': 3, 'n_estimators': 200} 4120.996225188528\n"
     ]
    },
    {
     "data": {
      "text/plain": [
       "'submissions_test.csv'"
      ]
     },
     "execution_count": 9,
     "metadata": {},
     "output_type": "execute_result"
    }
   ],
   "source": [
    "# Define hyperparameters for grid search\n",
    "param_grid_gb = {\n",
    "    'n_estimators': [50, 100, 200],\n",
    "    'learning_rate': [0.01, 0.05, 0.1, 0.5],\n",
    "    'max_depth': [3, 4, 5, 6]\n",
    "}\n",
    "\n",
    "# Grid search with cross-validation for Gradient Boosting Regressor\n",
    "gb_search = GridSearchCV(GradientBoostingRegressor(random_state=42), param_grid_gb, cv=5, scoring='neg_mean_squared_error')\n",
    "gb_search.fit(X_train_scaled, y_train)\n",
    "\n",
    "# Get the best parameters and score\n",
    "best_params_gb = gb_search.best_params_\n",
    "best_mse_gb = -gb_search.best_score_\n",
    "\n",
    "print(best_params_gb, best_mse_gb)\n",
    "\n",
    "# Predict on the test data using the best Gradient Boosting Regressor from randomized search\n",
    "y_test_pred_gb = gb_search.best_estimator_.predict(X_test_scaled)\n",
    "\n",
    "# Update the submission dataframe with new predictions\n",
    "submission['y'] = y_test_pred_gb\n",
    "\n",
    "submission.head()\n",
    "\n",
    "# Save the submission dataframe to a CSV file\n",
    "submission_file_path = \"submissions_test.csv\"\n",
    "submission.to_csv(submission_file_path, index=False)\n",
    "\n",
    "submission_file_path\n",
    "\n",
    "\n"
   ]
  }
 ],
 "metadata": {
  "kernelspec": {
   "display_name": "base",
   "language": "python",
   "name": "python3"
  },
  "language_info": {
   "codemirror_mode": {
    "name": "ipython",
    "version": 3
   },
   "file_extension": ".py",
   "mimetype": "text/x-python",
   "name": "python",
   "nbconvert_exporter": "python",
   "pygments_lexer": "ipython3",
   "version": "3.10.12"
  },
  "orig_nbformat": 4
 },
 "nbformat": 4,
 "nbformat_minor": 2
}
